{
 "cells": [
  {
   "cell_type": "code",
   "execution_count": 22,
   "metadata": {},
   "outputs": [],
   "source": [
    "HTML_TEMPLATE = \"\"\"\n",
    "<!DOCTYPE html>\n",
    "<html lang=\"en\">\n",
    "<head>\n",
    "    <meta charset=\"UTF-8\">\n",
    "    <meta name=\"viewport\" content=\"width=device-width, initial-scale=1.0\">\n",
    "    <title>{page_title}</title>\n",
    "    <link href=\"http://fonts.googleapis.com/earlyaccess/notosansjp.css\">\n",
    "    <link rel=\"stylesheet\" href=\"../css/style.css\">\n",
    "</head>\n",
    "<body>\n",
    "{body_text}\n",
    "</body>\n",
    "</html>\n",
    "\"\"\""
   ]
  },
  {
   "cell_type": "code",
   "execution_count": 24,
   "metadata": {},
   "outputs": [],
   "source": [
    "def make_chord_html(chord_folder_path, html_folder_path, song_name):\n",
    "    # ファイル読み込み\n",
    "    chord_path = chord_folder_path + song_name + \".txt\"\n",
    "    with open(chord_path, \"r\") as f:\n",
    "        file_name = f.name\n",
    "        text = f.read()\n",
    "    # 文章中の[]を<span class=\"chord\"></span>に変換\n",
    "    text = text.replace(\"[\", \"<span class=\\\"chord\\\">\").replace(\"]\", \"</span>\")\n",
    "    # 文章中の改行を<br>に変換\n",
    "    text = text.replace(\"\\n\", \"<br>\\n\")\n",
    "    # 冒頭に<h1>{ファイル名}</h1>を追加\n",
    "    text = \"<h1>\" + song_name + \"</h1>\\n<p>\" + text\n",
    "    # HTML_TEMPLATEに適用\n",
    "    text = HTML_TEMPLATE.format(page_title=song_name, body_text=text)\n",
    "    # chord_htmlフォルダに保存\n",
    "    html_path = html_folder_path + song_name + \".html\"\n",
    "    with open(html_path, \"w\") as f:\n",
    "        f.write(text)\n",
    "    return text\n",
    "\n",
    "def make_index_html(file_list):\n",
    "    # 冒頭に<h1>を追加\n",
    "    text = \"<h1>罅 コード集</h1>\\n\"\n",
    "    # song_listを作成\n",
    "    song_list = [file_name.replace(\".txt\", \"\") for file_name in file_list]\n",
    "    # リンクを追加\n",
    "    for song_name in song_list:\n",
    "        text += \"<li><a href=\\\"\" + song_name + \".html\\\">\" + song_name + \"</a></li>\\n\"\n",
    "    # HTML_TEMPLATEに適用\n",
    "    text = HTML_TEMPLATE.format(page_title=\"Index\", body_text=text)\n",
    "    # chord_htmlフォルダに保存\n",
    "    html_path = \"index.html\"\n",
    "    with open(html_path, \"w\") as f:\n",
    "        f.write(text)\n",
    "    return text"
   ]
  },
  {
   "cell_type": "code",
   "execution_count": 25,
   "metadata": {},
   "outputs": [
    {
     "name": "stdout",
     "output_type": "stream",
     "text": [
      "旧海域\n",
      "Done\n"
     ]
    }
   ],
   "source": [
    "# /chord_text/以下のファイルをhtmlに変換\n",
    "import os\n",
    "chord_folder_path = \"./chord_text/\"\n",
    "html_folder_path = \"./chord_html/\"\n",
    "file_list = os.listdir(chord_folder_path)\n",
    "for file_name in file_list:\n",
    "    if file_name.endswith(\".txt\"):\n",
    "        song_name = file_name.split(\".\")[0]\n",
    "        print(song_name)\n",
    "        make_chord_html(chord_folder_path, html_folder_path, song_name)\n",
    "\n",
    "make_index_html(file_list)\n",
    "\n",
    "print(\"Done\")"
   ]
  },
  {
   "cell_type": "code",
   "execution_count": null,
   "metadata": {},
   "outputs": [],
   "source": []
  }
 ],
 "metadata": {
  "language_info": {
   "name": "python"
  }
 },
 "nbformat": 4,
 "nbformat_minor": 2
}
