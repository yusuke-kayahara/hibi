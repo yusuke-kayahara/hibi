{
 "cells": [
  {
   "cell_type": "code",
   "execution_count": 16,
   "metadata": {},
   "outputs": [],
   "source": [
    "HTML_TEMPLATE = \"\"\"\n",
    "<!DOCTYPE html>\n",
    "<html lang=\"en\">\n",
    "<head>\n",
    "    <meta charset=\"UTF-8\">\n",
    "    <meta name=\"viewport\" content=\"width=device-width, initial-scale=1.0\">\n",
    "    <title>{page_title}</title>\n",
    "    <link href=\"http://fonts.googleapis.com/earlyaccess/notosansjp.css\">\n",
    "    <link rel=\"stylesheet\" href=\"{path}css/style.css\">\n",
    "    <link rel=\"icon\" href=\"{path}img/favicon.ico\" type=\"image/x-icon\">\n",
    "</head>\n",
    "<body>\n",
    "    <div class=\"chord_parent\">\n",
    "        <div class=\"container\">\n",
    "        {body_text}\n",
    "        </div>\n",
    "    </div>\n",
    "</body>\n",
    "</html>\n",
    "\"\"\"\n",
    "\n",
    "HTML_TEMPLATE_INDEX = \"\"\"\n",
    "<!DOCTYPE html>\n",
    "<html lang=\"en\">\n",
    "<head>\n",
    "    <meta charset=\"UTF-8\">\n",
    "    <meta name=\"viewport\" content=\"width=device-width, initial-scale=1.0\">\n",
    "    <title>{page_title}</title>\n",
    "    <link href=\"http://fonts.googleapis.com/earlyaccess/notosansjp.css\">\n",
    "    <link rel=\"stylesheet\" href=\"{path}css/style.css\">\n",
    "    <link rel=\"icon\" href=\"{path}img/favicon.ico\" type=\"image/x-icon\">\n",
    "</head>\n",
    "<body>\n",
    "    <div class=\"index_parent\">\n",
    "        <div class=\"container\">\n",
    "        {body_text}\n",
    "        </div>\n",
    "    </div>\n",
    "</body>\n",
    "</html>\n",
    "\"\"\""
   ]
  },
  {
   "cell_type": "code",
   "execution_count": 17,
   "metadata": {},
   "outputs": [],
   "source": [
    "def make_chord_html(chord_folder_path, html_folder_path, song_name):\n",
    "    # ファイル読み込み\n",
    "    chord_path = chord_folder_path + song_name + \".txt\"\n",
    "    with open(chord_path, \"r\") as f:\n",
    "        file_name = f.name\n",
    "        text = f.read()\n",
    "    # 文章中の[]を<span class=\"chord\"></span>に変換\n",
    "    text = text.replace(\"[\", \"<span class=\\\"chord\\\">\").replace(\"]\", \"</span>\")\n",
    "    # 文章中の改行を<br>に変換\n",
    "    text = text.replace(\"\\n\", \"<br>\\n\")\n",
    "    # 冒頭に<h1>{ファイル名}</h1>を追加\n",
    "    text = \"<h1>\" + song_name + \"</h1>\\n<p>\" + text\n",
    "    # HTML_TEMPLATEに適用\n",
    "    text = HTML_TEMPLATE.format(page_title=song_name, body_text=text, path=\"../\")\n",
    "    # chord_htmlフォルダに保存\n",
    "    html_path = html_folder_path + song_name + \".html\"\n",
    "    with open(html_path, \"w\") as f:\n",
    "        f.write(text)\n",
    "    return text\n",
    "\n",
    "def make_index_html(file_list):\n",
    "    # 冒頭に<h1>を追加\n",
    "    text = \"<h1>罅 コード集</h1>\\n\"\n",
    "    # song_listを作成\n",
    "    song_list = [file_name.replace(\".txt\", \"\") for file_name in file_list]\n",
    "    # リンクを追加\n",
    "    for song_name in song_list:\n",
    "        text += \"<li><a href=\\\"./chord_html/\" + song_name + \".html\\\">\" + song_name + \"</a></li>\\n\"\n",
    "    # HTML_TEMPLATEに適用\n",
    "    text = HTML_TEMPLATE_INDEX.format(page_title=\"罅 コード集\", body_text=text, path=\"./\")\n",
    "    # chord_htmlフォルダに保存\n",
    "    html_path = \"index.html\"\n",
    "    with open(html_path, \"w\") as f:\n",
    "        f.write(text)\n",
    "    return text"
   ]
  },
  {
   "cell_type": "code",
   "execution_count": 18,
   "metadata": {},
   "outputs": [
    {
     "name": "stdout",
     "output_type": "stream",
     "text": [
      "8 (キー+2)\n",
      "8\n",
      "Everything we loved\n",
      "Purkinje\n",
      "光が欲しい\n",
      "天使病\n",
      "旧海域\n",
      "毛と皮 (キー+1)\n",
      "毛と皮\n",
      "衛星\n",
      "話をしようよ (キー+2)\n",
      "話をしようよ\n",
      "Done\n"
     ]
    }
   ],
   "source": [
    "# /chord_text/以下のファイルをhtmlに変換\n",
    "import os\n",
    "chord_folder_path = \"./chord_text/\"\n",
    "html_folder_path = \"./chord_html/\"\n",
    "file_list = os.listdir(chord_folder_path)\n",
    "for file_name in file_list:\n",
    "    if file_name.endswith(\".txt\"):\n",
    "        song_name = file_name.split(\".\")[0]\n",
    "        print(song_name)\n",
    "        make_chord_html(chord_folder_path, html_folder_path, song_name)\n",
    "\n",
    "make_index_html(file_list)\n",
    "\n",
    "print(\"Done\")"
   ]
  },
  {
   "cell_type": "code",
   "execution_count": null,
   "metadata": {},
   "outputs": [],
   "source": []
  },
  {
   "cell_type": "code",
   "execution_count": null,
   "metadata": {},
   "outputs": [],
   "source": []
  }
 ],
 "metadata": {
  "kernelspec": {
   "display_name": "base",
   "language": "python",
   "name": "python3"
  },
  "language_info": {
   "codemirror_mode": {
    "name": "ipython",
    "version": 3
   },
   "file_extension": ".py",
   "mimetype": "text/x-python",
   "name": "python",
   "nbconvert_exporter": "python",
   "pygments_lexer": "ipython3",
   "version": "3.12.3"
  }
 },
 "nbformat": 4,
 "nbformat_minor": 2
}
