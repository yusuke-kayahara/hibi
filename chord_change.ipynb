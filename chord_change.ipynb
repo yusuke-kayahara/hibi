{
 "cells": [
  {
   "cell_type": "code",
   "execution_count": null,
   "metadata": {},
   "outputs": [],
   "source": [
    "\n",
    "kyukaiiki = \"\"\"\n",
    "[EbM7] [BbM7/F]\n",
    "\n",
    "[EbM7]腐り出したこの地に\n",
    "花は咲かない\n",
    "ただ灰が積[BbM7/F]もっていく\n",
    "\n",
    "[EbM7]諦めかけた想いが胸を刺す \n",
    "船を出す　\n",
    "[BbM7/F]あの海へと\n",
    "\n",
    "[EbM7] [BbM7/F]\n",
    "\n",
    "[EbM7]何も光らない \n",
    "何も祈れない \n",
    "ただ星だ [BbM7/F]けが見える\n",
    "\n",
    "[EbM7]夜が来るたび\n",
    "もう帰れない\n",
    "壊れた[BbM7/F]故郷を\n",
    "\n",
    "[Bb/G]想う [Bb/F]思う [Bb/Eb] [Bb7]\n",
    "\n",
    "旧海域[Bb/Eb]はまだ[Bb/F]遠く\n",
    "[Bb/G]光の名前を[Bb/Ab]頼りに[Bb/Eb]夜を[Bb/F]往こう[Bb/G] [Bb/Ab]\n",
    "[Bb/Eb]覚えた[Bb/F]歌を[Bb/G]口ずさみながら[Bb/Ab]\n",
    "[Bb/Eb]進[Bb/F]むよ\n",
    "\n",
    "([Bb/Eb]|----|----|----[Bb/F]|----)*4\n",
    "\"\"\"\n",
    "\n",
    "# 文章中の[]を<span class=\"chord\"></span>に変換\n",
    "kyukaiiki = kyukaiiki.replace(\"[\", \"<span class=\\\"chord\\\">\").replace(\"]\", \"</span>\")\n",
    "print(kyukaiiki)\n",
    "\n"
   ]
  },
  {
   "cell_type": "code",
   "execution_count": null,
   "metadata": {},
   "outputs": [],
   "source": [
    "def to_html(t):\n",
    "    # 文章中の[]を<span class=\"chord\"></span>に変換\n",
    "    t = t.replace(\"[\", \"<span class=\\\"chord\\\">\").replace(\"]\", \"</span>\")\n",
    "    # 文章中の改行を<br>に変換\n",
    "    t = t.replace(\"\\n\", \"<br>\")\n",
    "    return t"
   ]
  }
 ],
 "metadata": {
  "language_info": {
   "name": "python"
  }
 },
 "nbformat": 4,
 "nbformat_minor": 2
}
